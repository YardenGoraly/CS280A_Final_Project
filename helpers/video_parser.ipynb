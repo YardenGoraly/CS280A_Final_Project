{
 "cells": [
  {
   "cell_type": "code",
   "execution_count": 1,
   "id": "a1bed0a1-545a-4074-ba03-3aa25a6f6e9b",
   "metadata": {},
   "outputs": [],
   "source": [
    "import cv2\n",
    "import os\n",
    "from PIL import Image"
   ]
  },
  {
   "cell_type": "markdown",
   "id": "900c759d-0792-4dba-b801-d8028876b532",
   "metadata": {
    "jp-MarkdownHeadingCollapsed": true
   },
   "source": [
    "### Real Video to Frames"
   ]
  },
  {
   "cell_type": "code",
   "execution_count": 2,
   "id": "33fb65fd-f2cc-462c-be79-b1e70d94ff29",
   "metadata": {},
   "outputs": [],
   "source": [
    "def process_video(video_path, output_dir, num_frames=8, frame_size=(128, 128)):\n",
    "    \"\"\"\n",
    "    Processes a video to extract a sequence of frames and saves them as PNG images.\n",
    "\n",
    "    Args:\n",
    "        video_path (str): Path to the input video file.\n",
    "        output_dir (str): Directory to save the extracted frames.\n",
    "        num_frames (int): Number of frames to extract from the video.\n",
    "        frame_size (tuple): Size (width, height) to resize each frame.\n",
    "    \"\"\"\n",
    "    # Create the output directory if it doesn't exist\n",
    "    os.makedirs(output_dir, exist_ok=True)\n",
    "\n",
    "    # Open the video file\n",
    "    cap = cv2.VideoCapture(video_path)\n",
    "    total_frames = int(cap.get(cv2.CAP_PROP_FRAME_COUNT))\n",
    "\n",
    "    if total_frames < num_frames:\n",
    "        print(f\"Video has only {total_frames} frames, which is less than the required {num_frames}.\")\n",
    "        return\n",
    "\n",
    "    # Calculate the frame step to sample evenly\n",
    "    step = total_frames // num_frames\n",
    "\n",
    "    frame_indices = [i * step for i in range(num_frames)]\n",
    "\n",
    "    current_frame = 0\n",
    "    extracted_frames = 0\n",
    "\n",
    "    while cap.isOpened():\n",
    "        ret, frame = cap.read()\n",
    "        if not ret:\n",
    "            break\n",
    "\n",
    "        if current_frame in frame_indices:\n",
    "            # Convert frame from BGR to RGB (OpenCV uses BGR by default)\n",
    "            frame = cv2.cvtColor(frame, cv2.COLOR_BGR2RGB)\n",
    "\n",
    "            # Convert to PIL Image for resizing\n",
    "            img = Image.fromarray(frame)\n",
    "            img = img.resize(frame_size, Image.Resampling.LANCZOS)\n",
    "\n",
    "            # Save the frame as a PNG\n",
    "            frame_name = f\"frame_{extracted_frames + 1:02d}.png\"\n",
    "            img.save(os.path.join(output_dir, frame_name))\n",
    "\n",
    "            extracted_frames += 1\n",
    "\n",
    "            if extracted_frames >= num_frames:\n",
    "                break\n",
    "\n",
    "        current_frame += 1\n",
    "\n",
    "    cap.release()\n",
    "    print(f\"Extracted {extracted_frames} frames and saved to {output_dir}.\")"
   ]
  },
  {
   "cell_type": "code",
   "execution_count": 4,
   "id": "8ce00dae-879f-4ebb-90d2-b5aa6cb6e552",
   "metadata": {},
   "outputs": [],
   "source": [
    "def process_video_square_crop(video_path, output_dir, num_frames=8, final_size=(128, 128)):\n",
    "    \"\"\"\n",
    "    Processes a video to extract a sequence of frames, crops them into the largest square,\n",
    "    resizes them, and saves them as PNG images.\n",
    "\n",
    "    Args:\n",
    "        video_path (str): Path to the input video file.\n",
    "        output_dir (str): Directory to save the extracted frames.\n",
    "        num_frames (int): Number of frames to extract from the video.\n",
    "        final_size (tuple): Final size (width, height) to resize the cropped square frames.\n",
    "    \"\"\"\n",
    "    # Create the output directory if it doesn't exist\n",
    "    os.makedirs(output_dir, exist_ok=True)\n",
    "\n",
    "    # Open the video file\n",
    "    cap = cv2.VideoCapture(video_path)\n",
    "    total_frames = int(cap.get(cv2.CAP_PROP_FRAME_COUNT))\n",
    "\n",
    "    if total_frames < num_frames:\n",
    "        print(f\"Video has only {total_frames} frames, which is less than the required {num_frames}.\")\n",
    "        return\n",
    "\n",
    "    # Calculate the frame step to sample evenly\n",
    "    step = total_frames // num_frames\n",
    "\n",
    "    frame_indices = [i * step for i in range(num_frames)]\n",
    "\n",
    "    current_frame = 0\n",
    "    extracted_frames = 0\n",
    "\n",
    "    while cap.isOpened():\n",
    "        ret, frame = cap.read()\n",
    "        if not ret:\n",
    "            break\n",
    "\n",
    "        if current_frame in frame_indices:\n",
    "            # Convert frame from BGR to RGB (OpenCV uses BGR by default)\n",
    "            frame = cv2.cvtColor(frame, cv2.COLOR_BGR2RGB)\n",
    "\n",
    "            # Convert to PIL Image\n",
    "            img = Image.fromarray(frame)\n",
    "\n",
    "            # Determine the largest possible square dimensions\n",
    "            width, height = img.size\n",
    "            square_size = min(width, height)\n",
    "            left = (width - square_size) // 2\n",
    "            top = (height - square_size) // 2\n",
    "            right = left + square_size\n",
    "            bottom = top + square_size\n",
    "\n",
    "            # Crop to the largest square\n",
    "            img = img.crop((left, top, right, bottom))\n",
    "\n",
    "            # Resize the square to the final size\n",
    "            img = img.resize(final_size, Image.Resampling.LANCZOS)\n",
    "\n",
    "            # Save the frame as a PNG\n",
    "            frame_name = f\"cropped_frame_{extracted_frames + 1:02d}.png\"\n",
    "            img.save(os.path.join(output_dir, frame_name))\n",
    "\n",
    "            extracted_frames += 1\n",
    "\n",
    "            if extracted_frames >= num_frames:\n",
    "                break\n",
    "\n",
    "        current_frame += 1\n",
    "\n",
    "    cap.release()\n",
    "    print(f\"Extracted, cropped, and resized {extracted_frames} frames and saved to {output_dir}.\")"
   ]
  },
  {
   "cell_type": "code",
   "execution_count": 8,
   "id": "5cc87e0d-b65f-4a39-8e50-5db649c2b2b0",
   "metadata": {},
   "outputs": [
    {
     "name": "stdout",
     "output_type": "stream",
     "text": [
      "Extracted 8 frames and saved to ./data/output_frames/gummy.\n",
      "Extracted, cropped, and resized 8 frames and saved to ./data/output_frames/gummy.\n",
      "Extracted 8 frames and saved to ./data/output_frames/cat.\n",
      "Extracted, cropped, and resized 8 frames and saved to ./data/output_frames/cat.\n",
      "Extracted 8 frames and saved to ./data/output_frames/frog.\n",
      "Extracted, cropped, and resized 8 frames and saved to ./data/output_frames/frog.\n",
      "Extracted 8 frames and saved to ./data/output_frames/crocs.\n",
      "Extracted, cropped, and resized 8 frames and saved to ./data/output_frames/crocs.\n"
     ]
    }
   ],
   "source": [
    "if __name__ == \"__main__\":\n",
    "    # Path to the iPhone video\n",
    "    videos = [\n",
    "        # \"donkey_1\",\n",
    "        # \"donkey_2\",\n",
    "        # \"water_1\",\n",
    "        # \"water_2\",\n",
    "        # \"control_1\",\n",
    "        # \"control_2\",\n",
    "        \"gummy\",\n",
    "        \"cat\",\n",
    "        \"frog\",\n",
    "        \"crocs\",\n",
    "    ]\n",
    "    for video in videos:\n",
    "        video_path = f\"./data/videos/{video}.mov\"  # Replace with your video path\n",
    "    \n",
    "        # Output directory for frames\n",
    "        output_dir = \"./data/output_frames/\"\n",
    "        video_name = os.path.splitext(os.path.basename(video_path))[0]\n",
    "        video_output_dir = os.path.join(output_dir, video_name)\n",
    "        os.makedirs(video_output_dir, exist_ok=True)\n",
    "        \n",
    "        # Process the video\n",
    "        process_video(video_path, video_output_dir)\n",
    "        process_video_square_crop(video_path, video_output_dir)"
   ]
  },
  {
   "cell_type": "markdown",
   "id": "a751a00e-af8b-4d41-afdd-f3c9df333494",
   "metadata": {
    "jp-MarkdownHeadingCollapsed": true
   },
   "source": [
    "### GIF to Dataset"
   ]
  },
  {
   "cell_type": "code",
   "execution_count": 4,
   "id": "dd209ca4-0d34-43c5-9c39-28d50f841f4d",
   "metadata": {},
   "outputs": [
    {
     "name": "stdout",
     "output_type": "stream",
     "text": [
      "test-ddpm-sampling/reconstructions-40/train_10937_29400.gif\n"
     ]
    }
   ],
   "source": [
    "!ls test-ddpm-sampling/reconstructions-40/train_10937_29400.gif"
   ]
  },
  {
   "cell_type": "code",
   "execution_count": 23,
   "id": "392b7249-8820-4a4e-901f-2027c53e503b",
   "metadata": {},
   "outputs": [
    {
     "name": "stdout",
     "output_type": "stream",
     "text": [
      "(8, 128, 128, 3)\n"
     ]
    }
   ],
   "source": [
    "from PIL import Image\n",
    "import numpy as np\n",
    "\n",
    "# Open the GIF file\n",
    "gif_path = \"test-ddpm-sampling/reconstructions-40/train_10937_29400.gif\"  # Replace with the path to your GIF\n",
    "gif = Image.open(gif_path)\n",
    "\n",
    "# List to store frames as numpy arrays\n",
    "frames = []\n",
    "\n",
    "# Iterate through the frames in the GIF\n",
    "for frame in range(gif.n_frames):\n",
    "    gif.seek(frame)  # Go to the current frame\n",
    "    frame_image = gif.convert(\"RGB\")  # Ensure it's in RGB format\n",
    "    frame_image = frame_image.resize((128, 128))\n",
    "    frame_array = np.array(frame_image)  # Convert to numpy array\n",
    "    frames.append(frame_array)\n",
    "\n",
    "# Convert list of frames to a numpy array (8 frames of 128x128 RGB images)\n",
    "frames_np = np.array(frames)\n",
    "\n",
    "# Check the shape of the frames (should be (8, 128, 128, 3))\n",
    "print(frames_np.shape)"
   ]
  },
  {
   "cell_type": "code",
   "execution_count": 24,
   "id": "33f3f017-023f-414d-a884-09e3d9fd7166",
   "metadata": {},
   "outputs": [
    {
     "data": {
      "text/plain": [
       "(128, 128, 3)"
      ]
     },
     "execution_count": 24,
     "metadata": {},
     "output_type": "execute_result"
    }
   ],
   "source": [
    "frames[0].shape"
   ]
  },
  {
   "cell_type": "code",
   "execution_count": 30,
   "id": "d9e1503a-d7d2-470c-bd22-d939d5508d00",
   "metadata": {},
   "outputs": [
    {
     "data": {
      "text/plain": [
       "(np.float32(0.6627451), np.float32(0.047058824))"
      ]
     },
     "execution_count": 30,
     "metadata": {},
     "output_type": "execute_result"
    }
   ],
   "source": [
    "data_path = './data/1.npz'\n",
    "with open(data_path, 'rb') as f:\n",
    "    data = np.load(f)\n",
    "    img_seq = data['rgb'][:8, 0].astype('float32')\n",
    "    # (Frames, H, W, C) \n",
    "    img = img_seq[0]\n",
    "\n",
    "    loaded_data = img #torch.from_numpy(img).permute(2, 0, 1).float()\n",
    "\n",
    "np.max(loaded_data), np.min(loaded_data)"
   ]
  },
  {
   "cell_type": "code",
   "execution_count": 25,
   "id": "fd0ac36a-d12a-494b-9e74-51cca69c873a",
   "metadata": {},
   "outputs": [
    {
     "data": {
      "image/jpeg": "[encoded data removed]",
      "image/png": "[encoded data removed]",
      "text/plain": [
       "<PIL.Image.Image image mode=RGB size=128x128>"
      ]
     },
     "execution_count": 25,
     "metadata": {},
     "output_type": "execute_result"
    }
   ],
   "source": [
    "Image.fromarray(frames[0])"
   ]
  },
  {
   "cell_type": "code",
   "execution_count": 36,
   "id": "b127caea-1b92-4af1-aef4-d4eee898f68b",
   "metadata": {},
   "outputs": [],
   "source": [
    "def from_gif(in_dir, out_dir):\n",
    "    # Iterate over all files in the data_root directory\n",
    "    filenames = sorted([f for f in os.listdir(in_dir) if \"train_770_1300900\" in f])#f.lower().endswith(\".gif\")])\n",
    "    for filename in filenames:\n",
    "        gif_path = in_dir + filename\n",
    "        gif = Image.open(gif_path)\n",
    "\n",
    "        # List to store frames for the current GIF\n",
    "        # frames = []\n",
    "\n",
    "        # Iterate through the frames in the GIF\n",
    "        for frame in range(gif.n_frames):\n",
    "            gif.seek(frame)  # Go to the current frame\n",
    "            frame_image = gif.convert(\"RGB\")  # Ensure it's in RGB format\n",
    "            frame_image = frame_image.resize((128, 128))  # Resize the frame to 128x128\n",
    "            # frame_array = np.array(frame_image)  # Convert to numpy array\n",
    "            # frames.append(frame_array)\n",
    "\n",
    "            frame_image.save(out_dir + f\"{filename}_{frame}.jpg\")\n",
    "            print(f\"{filename}_{frame}.jpg\")"
   ]
  },
  {
   "cell_type": "code",
   "execution_count": 37,
   "id": "7e3cf359-f79e-4cc2-8d0a-4c03d1e1e9c4",
   "metadata": {},
   "outputs": [
    {
     "name": "stdout",
     "output_type": "stream",
     "text": [
      "train_770_1300900.gif_0.jpg\n",
      "train_770_1300900.gif_1.jpg\n",
      "train_770_1300900.gif_2.jpg\n",
      "train_770_1300900.gif_3.jpg\n",
      "train_770_1300900.gif_4.jpg\n",
      "train_770_1300900.gif_5.jpg\n",
      "train_770_1300900.gif_6.jpg\n",
      "train_770_1300900.gif_7.jpg\n"
     ]
    }
   ],
   "source": [
    "in_dir = \"./data/reconstructions-40-better/\"\n",
    "out_dir = \"./data/\"\n",
    "\n",
    "os.makedirs(out_dir, exist_ok=True)\n",
    "\n",
    "from_gif(in_dir, out_dir)"
   ]
  },
  {
   "cell_type": "markdown",
   "id": "b08affc9-1d9c-4b30-8e1e-36a4a9a631ec",
   "metadata": {},
   "source": [
    "### Generated to GIF"
   ]
  },
  {
   "cell_type": "code",
   "execution_count": 4,
   "id": "f4c29862-7c51-4915-9fb4-f0f07da9be9a",
   "metadata": {},
   "outputs": [],
   "source": [
    "def to_gif(seq_num, in_dir, out_dir, name=\"real\"):\n",
    "    # Open images and convert to the same mode (e.g., RGB)\n",
    "    frames = [Image.open(in_dir + f\"output_{name}_0_{seq_num}_{i}.png\").convert(\"RGB\") for i in range(8)]\n",
    "    \n",
    "    # Save as GIF\n",
    "    frames[0].save(\n",
    "        out_dir + f\"{seq_num}.gif\",  # Output file name\n",
    "        save_all=True,  # Save all frames\n",
    "        append_images=frames[1:],  # Append the rest of the frames\n",
    "        duration=500,  # Duration between frames in milliseconds\n",
    "        loop=0  # Number of loops (0 = infinite)\n",
    "    )\n",
    "    \n",
    "    print(f\"{seq_num}.gif saved\")"
   ]
  },
  {
   "cell_type": "code",
   "execution_count": null,
   "id": "a2adbe93-fd52-4bc0-9769-7287fd0f6643",
   "metadata": {},
   "outputs": [],
   "source": [
    "in_dir = './data/trial9_c_t40/'\n",
    "out_dir = './data/trial9_c_gif/'\n",
    "num_seq = 40\n",
    "\n",
    "os.makedirs(out_dir, exist_ok=True)\n",
    "\n",
    "for s in range(num_seq):\n",
    "    to_gif(s, in_dir, out_dir)"
   ]
  },
  {
   "cell_type": "code",
   "execution_count": 23,
   "id": "469cc575-f663-4786-b8c9-1544c064fe68",
   "metadata": {},
   "outputs": [],
   "source": [
    "def to_gif(in_dir, out_dir, name):\n",
    "    # Open images and convert to the same mode (e.g., RGB)\n",
    "    frames = [Image.open(in_dir + f\"cropped_frame_0{i+1}.png\").convert(\"RGB\") for i in range(8)]\n",
    "    \n",
    "    # Save as GIF\n",
    "    frames[0].save(\n",
    "        out_dir + f\"{name}.gif\",  # Output file name\n",
    "        save_all=True,  # Save all frames\n",
    "        append_images=frames[1:],  # Append the rest of the frames\n",
    "        duration=500,  # Duration between frames in milliseconds\n",
    "        loop=0  # Number of loops (0 = infinite)\n",
    "    )\n",
    "    \n",
    "    print(f\"{name}.gif saved\")"
   ]
  },
  {
   "cell_type": "code",
   "execution_count": 25,
   "id": "0ac322e3-7b5a-4467-8b26-1d470d52edb8",
   "metadata": {},
   "outputs": [
    {
     "name": "stdout",
     "output_type": "stream",
     "text": [
      "cropped_frog.gif saved\n"
     ]
    }
   ],
   "source": [
    "name = \"cropped_frog\"\n",
    "in_dir = f\"./data/output_frames/{name}/\"\n",
    "out_dir = f\"./final_repo/assets/real_gt/\"\n",
    "\n",
    "to_gif(in_dir, out_dir, name=name)"
   ]
  },
  {
   "cell_type": "markdown",
   "id": "86105c53-61a6-4e2b-956c-207475c5ffc2",
   "metadata": {
    "jp-MarkdownHeadingCollapsed": true
   },
   "source": [
    "### NPZ"
   ]
  },
  {
   "cell_type": "code",
   "execution_count": 46,
   "id": "64e7b60e-b1dd-49a5-a9e4-d4c4d3d31b35",
   "metadata": {},
   "outputs": [],
   "source": [
    "import numpy as np\n",
    "import torch"
   ]
  },
  {
   "cell_type": "code",
   "execution_count": 63,
   "id": "7f542cb3-4f06-4044-9bf4-ff3cad1fdaf8",
   "metadata": {},
   "outputs": [
    {
     "data": {
      "image/jpeg": "[encoded data removed]",
      "image/png": "[encoded data removed]",
      "text/plain": [
       "<PIL.Image.Image image mode=RGB size=128x128>"
      ]
     },
     "execution_count": 63,
     "metadata": {},
     "output_type": "execute_result"
    }
   ],
   "source": [
    "# data_path = os.path.join(data_root, f'{seq}.npz')\n",
    "data_path = f'./data/{770}.npz'\n",
    "with open(data_path, 'rb') as f:\n",
    "    data = np.load(f)\n",
    "    img_seq = data['rgb'][:8, 0].astype('float32')\n",
    "    # (Frames, H, W, C) \n",
    "    img = img_seq[3]\n",
    "\n",
    "    # loaded_data = torch.from_numpy(img).permute(2, 0, 1).float()\n",
    "a = Image.fromarray(np.array(img * 255).astype(np.uint8))\n",
    "a.save(\"fig_train37_gt.png\")\n",
    "a"
   ]
  },
  {
   "cell_type": "code",
   "execution_count": null,
   "id": "4e64bd9b-e071-4e4b-b249-062563b43bbd",
   "metadata": {},
   "outputs": [],
   "source": []
  }
 ],
 "metadata": {
  "kernelspec": {
   "display_name": "Python 3 (ipykernel)",
   "language": "python",
   "name": "python3"
  },
  "language_info": {
   "codemirror_mode": {
    "name": "ipython",
    "version": 3
   },
   "file_extension": ".py",
   "mimetype": "text/x-python",
   "name": "python",
   "nbconvert_exporter": "python",
   "pygments_lexer": "ipython3",
   "version": "3.10.14"
  }
 },
 "nbformat": 4,
 "nbformat_minor": 5
}
